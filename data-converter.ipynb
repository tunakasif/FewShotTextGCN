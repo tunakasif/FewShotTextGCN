{
 "cells": [
  {
   "cell_type": "code",
   "execution_count": 1,
   "metadata": {},
   "outputs": [],
   "source": [
    "from pathlib import Path\n",
    "\n",
    "import pandas as pd"
   ]
  },
  {
   "cell_type": "code",
   "execution_count": 2,
   "metadata": {},
   "outputs": [],
   "source": [
    "DATASETS = (\"r8\", \"r52\", \"mr\", \"20ng\", \"ohsumed\")\n",
    "\n",
    "WORK_DIR = Path.cwd().absolute()\n",
    "DATA_PATH = WORK_DIR.joinpath(\"data\")\n",
    "ORIGINAL_DATA_PATH = DATA_PATH.joinpath(\"original-data\")\n",
    "CORPARA_PATH = ORIGINAL_DATA_PATH.joinpath(\"corpus\")\n",
    "LABEL_PATH = ORIGINAL_DATA_PATH.joinpath(\"label-info\")"
   ]
  },
  {
   "cell_type": "code",
   "execution_count": 3,
   "metadata": {},
   "outputs": [],
   "source": [
    "def get_dataset_df(corpus_path: Path, label_path: Path) -> pd.DataFrame:\n",
    "    corpus_df = pd.read_csv(corpus_path, sep=\"\\t\", header=None)\n",
    "    corpus_df = corpus_df.rename(columns={0: 'terms'})\n",
    "\n",
    "    label_df = pd.read_csv(label_path, sep=\"\\t\", header=None)\n",
    "    label_df = label_df.rename(columns={2: 'label', 1: 'mode'})\n",
    "    label_df.drop(columns=[0], inplace=True)\n",
    "\n",
    "    dataset_df = pd.concat([label_df, corpus_df], axis=1)\n",
    "    return dataset_df\n",
    "\n",
    "def save_dataset_tsv(dataset_name: str, output_path: Path = DATA_PATH) -> None:\n",
    "    corpus_path = CORPARA_PATH.joinpath(f\"{dataset_name}.txt\")\n",
    "    label_path = LABEL_PATH.joinpath(f\"{dataset_name}.txt\")\n",
    "    dataset_df = get_dataset_df(corpus_path, label_path)\n",
    "    modes = dataset_df['mode'].unique().tolist()\n",
    "    for mode in modes:\n",
    "        split = dataset_df[dataset_df['mode'] == mode].drop(columns=['mode'])\n",
    "        if \"train\" in mode:\n",
    "            mode = \"train\"\n",
    "        elif \"test\" in mode:\n",
    "            mode = \"test\"\n",
    "        else:\n",
    "            raise ValueError(f\"Unknown mode: {mode}\")\n",
    "\n",
    "        split.to_csv(output_path.joinpath(f\"{dataset_name}-{mode}.tsv\"), index=False, header=False, sep=\"\\t\")\n",
    "\n",
    "for dataset in DATASETS:\n",
    "    save_dataset_tsv(dataset, output_path= DATA_PATH)"
   ]
  }
 ],
 "metadata": {
  "kernelspec": {
   "display_name": ".venv",
   "language": "python",
   "name": "python3"
  },
  "language_info": {
   "codemirror_mode": {
    "name": "ipython",
    "version": 3
   },
   "file_extension": ".py",
   "mimetype": "text/x-python",
   "name": "python",
   "nbconvert_exporter": "python",
   "pygments_lexer": "ipython3",
   "version": "3.8.18"
  }
 },
 "nbformat": 4,
 "nbformat_minor": 2
}
